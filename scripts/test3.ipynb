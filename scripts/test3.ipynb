{
 "cells": [
  {
   "cell_type": "code",
   "execution_count": null,
   "metadata": {},
   "outputs": [],
   "source": [
    "!pip install datasets\n",
    "from datasets import load_dataset\n",
    "dataset = load_dataset(\"lmqg/qg_annotation\")"
   ]
  },
  {
   "cell_type": "code",
   "execution_count": 3,
   "metadata": {},
   "outputs": [
    {
     "name": "stderr",
     "output_type": "stream",
     "text": [
      "Downloading builder script: 100%|██████████| 3.26k/3.26k [00:00<00:00, 4.00MB/s]\n",
      "Downloading readme: 100%|██████████| 3.17k/3.17k [00:00<00:00, 4.03MB/s]\n"
     ]
    },
    {
     "name": "stdout",
     "output_type": "stream",
     "text": [
      "Downloading and preparing dataset qg_annotation/qg_annotation to /home/ubuntu/.cache/huggingface/datasets/lmqg___qg_annotation/qg_annotation/0.0.3/5fd9d4573e46b0d58528a31764696d51ac8a3415afeed228dd12eb3d4499a30e...\n"
     ]
    },
    {
     "name": "stderr",
     "output_type": "stream",
     "text": [
      "Downloading data: 100%|██████████| 4.50M/4.50M [00:00<00:00, 79.2MB/s]\n",
      "Downloading data files: 100%|██████████| 1/1 [00:00<00:00,  4.13it/s]\n",
      "Extracting data files: 100%|██████████| 1/1 [00:00<00:00, 870.37it/s]\n",
      "                                                                \r"
     ]
    },
    {
     "name": "stdout",
     "output_type": "stream",
     "text": [
      "Dataset qg_annotation downloaded and prepared to /home/ubuntu/.cache/huggingface/datasets/lmqg___qg_annotation/qg_annotation/0.0.3/5fd9d4573e46b0d58528a31764696d51ac8a3415afeed228dd12eb3d4499a30e. Subsequent calls will reuse this data.\n"
     ]
    },
    {
     "name": "stderr",
     "output_type": "stream",
     "text": [
      "100%|██████████| 1/1 [00:00<00:00, 464.64it/s]\n"
     ]
    }
   ],
   "source": [
    "dataset = load_dataset(\"lmqg/qg_annotation\")"
   ]
  },
  {
   "cell_type": "code",
   "execution_count": 6,
   "metadata": {},
   "outputs": [
    {
     "data": {
      "text/plain": [
       "{'correctness': 1.7999999523162842,\n",
       " 'grammaticality': 3.0,\n",
       " 'understandability': 2.4000000953674316,\n",
       " 'prediction': 'What trade did the Ming dynasty have a shortage of?',\n",
       " 'Bleu_4': 0.4961682856082916,\n",
       " 'METEOR': 0.3572683334350586,\n",
       " 'ROUGE_L': 0.7272727489471436,\n",
       " 'BERTScore': 0.9142221808433533,\n",
       " 'MoverScore': 0.6782580614089966,\n",
       " 'reference_raw': 'What important trade did the Ming Dynasty have with Tibet?',\n",
       " 'answer_raw': 'horse trade',\n",
       " 'paragraph_raw': \"Some scholars note that Tibetan leaders during the Ming frequently engaged in civil war and conducted their own foreign diplomacy with neighboring states such as Nepal. Some scholars underscore the commercial aspect of the Ming-Tibetan relationship, noting the Ming dynasty's shortage of horses for warfare and thus the importance of the horse trade with Tibet. Others argue that the significant religious nature of the relationship of the Ming court with Tibetan lamas is underrepresented in modern scholarship. In hopes of reviving the unique relationship of the earlier Mongol leader Kublai Khan (r. 1260–1294) and his spiritual superior Drogön Chögyal Phagpa (1235–1280) of the Sakya school of Tibetan Buddhism, the Yongle Emperor (r. 1402–1424) made a concerted effort to build a secular and religious alliance with Deshin Shekpa (1384–1415), the Karmapa of the Karma Kagyu school. However, the Yongle Emperor's attempts were unsuccessful.\",\n",
       " 'sentence_raw': \"Some scholars underscore the commercial aspect of the Ming-Tibetan relationship, noting the Ming dynasty's shortage of horses for warfare and thus the importance of the horse trade with Tibet.\",\n",
       " 'reference_norm': 'what important trade did the ming dynasty have with tibet ?',\n",
       " 'model': 'T5 Large'}"
      ]
     },
     "execution_count": 6,
     "metadata": {},
     "output_type": "execute_result"
    }
   ],
   "source": [
    "dataset['test'][0]"
   ]
  },
  {
   "cell_type": "code",
   "execution_count": null,
   "metadata": {},
   "outputs": [],
   "source": []
  }
 ],
 "metadata": {
  "kernelspec": {
   "display_name": "base",
   "language": "python",
   "name": "python3"
  },
  "language_info": {
   "codemirror_mode": {
    "name": "ipython",
    "version": 3
   },
   "file_extension": ".py",
   "mimetype": "text/x-python",
   "name": "python",
   "nbconvert_exporter": "python",
   "pygments_lexer": "ipython3",
   "version": "3.9.13"
  },
  "orig_nbformat": 4,
  "vscode": {
   "interpreter": {
    "hash": "fb5dccc8e3c7e786daf1eda69742c93f8becc3cb00853abb54bb5063887fb73d"
   }
  }
 },
 "nbformat": 4,
 "nbformat_minor": 2
}
